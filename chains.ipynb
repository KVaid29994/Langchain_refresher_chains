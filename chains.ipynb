{
 "cells": [
  {
   "cell_type": "markdown",
   "id": "8c9abd25",
   "metadata": {},
   "source": [
    "# ***Chains in Langchain***"
   ]
  },
  {
   "cell_type": "markdown",
   "id": "85e0b827",
   "metadata": {},
   "source": [
    "In LangChain, a Chain is a sequence of steps that connect different components (like LLMs, prompts, tools, memory, etc.) to build a more powerful and structured application.\n",
    "\n",
    "Think of it as a workflow for reasoning — where the output of one step becomes the input of the next."
   ]
  },
  {
   "cell_type": "markdown",
   "id": "ccc557be",
   "metadata": {},
   "source": [
    "### ✅ Why Use Chains?"
   ]
  },
  {
   "cell_type": "markdown",
   "id": "251014bc",
   "metadata": {},
   "source": [
    "| Reason        | Benefit                                               |\n",
    "| ------------- | ----------------------------------------------------- |\n",
    "| Reusability   | Chains allow you to modularize logic for reuse.       |\n",
    "| Abstraction   | Hide the complexity behind clear interfaces.          |\n",
    "| Flexibility   | Combine multiple LLMs, APIs, tools, or logic.         |\n",
    "| Orchestration | Define control over multi-step thought processes.     |\n",
    "| Integration   | Easily plug in memory, documents, agents, retrievers. |\n"
   ]
  },
  {
   "cell_type": "markdown",
   "id": "f64324c2",
   "metadata": {},
   "source": [
    "### 🔄 Types of Chains in LangChain"
   ]
  },
  {
   "cell_type": "markdown",
   "id": "352b1910",
   "metadata": {},
   "source": [
    "🔹 1. SimpleChain / LLMChain\n",
    "Single prompt to LLM\n",
    "\n",
    "Good for Q&A, summarization, classification\n",
    "\n",
    "🔹 2. SequentialChain\n",
    "Multiple chains run in order, one after another\n",
    "\n",
    "Output of one → input of next\n",
    "\n",
    "🔹 3. RouterChain\n",
    "Route to different chains based on input\n",
    "\n",
    "Like a switch-case\n",
    "\n",
    "🔹 4. CustomChain\n",
    "Write your own logic using LangChain's BaseChain\n",
    "\n"
   ]
  },
  {
   "cell_type": "markdown",
   "id": "caf84778",
   "metadata": {},
   "source": [
    "\n",
    "    A[User Input] --> B[Prompt Template]\n",
    "    B --> C[LLMChain or Tool]\n",
    "    C --> D[Optional Memory / Doc Retriever]\n",
    "    D --> E[Output Parser / Final Answer]\n",
    "\n",
    "    subgraph LangChain Chain\n",
    "        B --> C --> D"
   ]
  },
  {
   "cell_type": "markdown",
   "id": "6228af7f",
   "metadata": {},
   "source": []
  }
 ],
 "metadata": {
  "language_info": {
   "name": "python"
  }
 },
 "nbformat": 4,
 "nbformat_minor": 5
}
